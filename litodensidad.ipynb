{
 "cells": [
  {
   "cell_type": "code",
   "execution_count": 145,
   "metadata": {},
   "outputs": [],
   "source": [
    "import numpy as np\n",
    "import pandas as pd\n",
    "import matplotlib.pyplot as plt\n",
    "import matplotlib as mat"
   ]
  },
  {
   "cell_type": "code",
   "execution_count": 146,
   "metadata": {},
   "outputs": [],
   "source": [
    "datos = pd.read_csv(\"eval_petro.csv\")"
   ]
  },
  {
   "cell_type": "code",
   "execution_count": 147,
   "metadata": {},
   "outputs": [
    {
     "data": {
      "text/html": [
       "<div>\n",
       "<style scoped>\n",
       "    .dataframe tbody tr th:only-of-type {\n",
       "        vertical-align: middle;\n",
       "    }\n",
       "\n",
       "    .dataframe tbody tr th {\n",
       "        vertical-align: top;\n",
       "    }\n",
       "\n",
       "    .dataframe thead th {\n",
       "        text-align: right;\n",
       "    }\n",
       "</style>\n",
       "<table border=\"1\" class=\"dataframe\">\n",
       "  <thead>\n",
       "    <tr style=\"text-align: right;\">\n",
       "      <th></th>\n",
       "      <th>PROF</th>\n",
       "      <th>GR</th>\n",
       "      <th>DLL</th>\n",
       "      <th>LLS</th>\n",
       "      <th>FR</th>\n",
       "      <th>DT</th>\n",
       "      <th>NPHI</th>\n",
       "      <th>RHOB</th>\n",
       "      <th>M</th>\n",
       "    </tr>\n",
       "  </thead>\n",
       "  <tbody>\n",
       "    <tr>\n",
       "      <th>0</th>\n",
       "      <td>3895.4964</td>\n",
       "      <td>13.4288</td>\n",
       "      <td>296.4435</td>\n",
       "      <td>152.3448</td>\n",
       "      <td>73.8266</td>\n",
       "      <td>NaN</td>\n",
       "      <td>0.0606</td>\n",
       "      <td>2.5407</td>\n",
       "      <td>0.8381</td>\n",
       "    </tr>\n",
       "    <tr>\n",
       "      <th>1</th>\n",
       "      <td>3895.6488</td>\n",
       "      <td>13.5247</td>\n",
       "      <td>306.2799</td>\n",
       "      <td>155.8916</td>\n",
       "      <td>68.3078</td>\n",
       "      <td>NaN</td>\n",
       "      <td>0.0633</td>\n",
       "      <td>2.5486</td>\n",
       "      <td>0.8332</td>\n",
       "    </tr>\n",
       "    <tr>\n",
       "      <th>2</th>\n",
       "      <td>3895.8012</td>\n",
       "      <td>13.4533</td>\n",
       "      <td>305.2768</td>\n",
       "      <td>154.7796</td>\n",
       "      <td>68.0374</td>\n",
       "      <td>NaN</td>\n",
       "      <td>0.0645</td>\n",
       "      <td>2.5578</td>\n",
       "      <td>0.8301</td>\n",
       "    </tr>\n",
       "    <tr>\n",
       "      <th>3</th>\n",
       "      <td>3895.9536</td>\n",
       "      <td>12.8354</td>\n",
       "      <td>297.0194</td>\n",
       "      <td>150.2632</td>\n",
       "      <td>71.7124</td>\n",
       "      <td>NaN</td>\n",
       "      <td>0.0652</td>\n",
       "      <td>2.5606</td>\n",
       "      <td>0.8290</td>\n",
       "    </tr>\n",
       "    <tr>\n",
       "      <th>4</th>\n",
       "      <td>3896.1060</td>\n",
       "      <td>11.6641</td>\n",
       "      <td>283.1093</td>\n",
       "      <td>142.4204</td>\n",
       "      <td>77.3886</td>\n",
       "      <td>NaN</td>\n",
       "      <td>0.0683</td>\n",
       "      <td>2.5554</td>\n",
       "      <td>0.8278</td>\n",
       "    </tr>\n",
       "  </tbody>\n",
       "</table>\n",
       "</div>"
      ],
      "text/plain": [
       "        PROF       GR       DLL       LLS       FR  DT    NPHI    RHOB       M\n",
       "0  3895.4964  13.4288  296.4435  152.3448  73.8266 NaN  0.0606  2.5407  0.8381\n",
       "1  3895.6488  13.5247  306.2799  155.8916  68.3078 NaN  0.0633  2.5486  0.8332\n",
       "2  3895.8012  13.4533  305.2768  154.7796  68.0374 NaN  0.0645  2.5578  0.8301\n",
       "3  3895.9536  12.8354  297.0194  150.2632  71.7124 NaN  0.0652  2.5606  0.8290\n",
       "4  3896.1060  11.6641  283.1093  142.4204  77.3886 NaN  0.0683  2.5554  0.8278"
      ]
     },
     "execution_count": 147,
     "metadata": {},
     "output_type": "execute_result"
    }
   ],
   "source": [
    "datos.head()"
   ]
  },
  {
   "cell_type": "code",
   "execution_count": 148,
   "metadata": {},
   "outputs": [
    {
     "data": {
      "text/plain": [
       "0    3895.4964\n",
       "1    3895.6488\n",
       "2    3895.8012\n",
       "3    3895.9536\n",
       "4    3896.1060\n",
       "Name: PROF, dtype: float64"
      ]
     },
     "execution_count": 148,
     "metadata": {},
     "output_type": "execute_result"
    }
   ],
   "source": [
    "datos['PROF'].head()"
   ]
  },
  {
   "cell_type": "code",
   "execution_count": 149,
   "metadata": {},
   "outputs": [],
   "source": [
    "datos['DT'] = 189 - (datos['RHOB'] -1)*datos['M']/0.01"
   ]
  },
  {
   "cell_type": "code",
   "execution_count": 150,
   "metadata": {},
   "outputs": [],
   "source": [
    "#datos['DT']"
   ]
  },
  {
   "cell_type": "code",
   "execution_count": 151,
   "metadata": {},
   "outputs": [],
   "source": [
    "#datos"
   ]
  },
  {
   "cell_type": "code",
   "execution_count": 152,
   "metadata": {},
   "outputs": [],
   "source": [
    "datos['N'] = (1 - datos['NPHI'])/(datos['RHOB'] - 1)"
   ]
  },
  {
   "cell_type": "code",
   "execution_count": 153,
   "metadata": {},
   "outputs": [
    {
     "data": {
      "text/html": [
       "<div>\n",
       "<style scoped>\n",
       "    .dataframe tbody tr th:only-of-type {\n",
       "        vertical-align: middle;\n",
       "    }\n",
       "\n",
       "    .dataframe tbody tr th {\n",
       "        vertical-align: top;\n",
       "    }\n",
       "\n",
       "    .dataframe thead th {\n",
       "        text-align: right;\n",
       "    }\n",
       "</style>\n",
       "<table border=\"1\" class=\"dataframe\">\n",
       "  <thead>\n",
       "    <tr style=\"text-align: right;\">\n",
       "      <th></th>\n",
       "      <th>PROF</th>\n",
       "      <th>GR</th>\n",
       "      <th>DLL</th>\n",
       "      <th>LLS</th>\n",
       "      <th>FR</th>\n",
       "      <th>DT</th>\n",
       "      <th>NPHI</th>\n",
       "      <th>RHOB</th>\n",
       "      <th>M</th>\n",
       "      <th>N</th>\n",
       "    </tr>\n",
       "  </thead>\n",
       "  <tbody>\n",
       "    <tr>\n",
       "      <th>0</th>\n",
       "      <td>3895.4964</td>\n",
       "      <td>13.4288</td>\n",
       "      <td>296.4435</td>\n",
       "      <td>152.3448</td>\n",
       "      <td>73.8266</td>\n",
       "      <td>59.873933</td>\n",
       "      <td>0.0606</td>\n",
       "      <td>2.5407</td>\n",
       "      <td>0.8381</td>\n",
       "      <td>0.609723</td>\n",
       "    </tr>\n",
       "    <tr>\n",
       "      <th>1</th>\n",
       "      <td>3895.6488</td>\n",
       "      <td>13.5247</td>\n",
       "      <td>306.2799</td>\n",
       "      <td>155.8916</td>\n",
       "      <td>68.3078</td>\n",
       "      <td>59.970648</td>\n",
       "      <td>0.0633</td>\n",
       "      <td>2.5486</td>\n",
       "      <td>0.8332</td>\n",
       "      <td>0.604869</td>\n",
       "    </tr>\n",
       "    <tr>\n",
       "      <th>2</th>\n",
       "      <td>3895.8012</td>\n",
       "      <td>13.4533</td>\n",
       "      <td>305.2768</td>\n",
       "      <td>154.7796</td>\n",
       "      <td>68.0374</td>\n",
       "      <td>59.687022</td>\n",
       "      <td>0.0645</td>\n",
       "      <td>2.5578</td>\n",
       "      <td>0.8301</td>\n",
       "      <td>0.600526</td>\n",
       "    </tr>\n",
       "    <tr>\n",
       "      <th>3</th>\n",
       "      <td>3895.9536</td>\n",
       "      <td>12.8354</td>\n",
       "      <td>297.0194</td>\n",
       "      <td>150.2632</td>\n",
       "      <td>71.7124</td>\n",
       "      <td>59.626260</td>\n",
       "      <td>0.0652</td>\n",
       "      <td>2.5606</td>\n",
       "      <td>0.8290</td>\n",
       "      <td>0.599000</td>\n",
       "    </tr>\n",
       "    <tr>\n",
       "      <th>4</th>\n",
       "      <td>3896.1060</td>\n",
       "      <td>11.6641</td>\n",
       "      <td>283.1093</td>\n",
       "      <td>142.4204</td>\n",
       "      <td>77.3886</td>\n",
       "      <td>60.243988</td>\n",
       "      <td>0.0683</td>\n",
       "      <td>2.5554</td>\n",
       "      <td>0.8278</td>\n",
       "      <td>0.599010</td>\n",
       "    </tr>\n",
       "  </tbody>\n",
       "</table>\n",
       "</div>"
      ],
      "text/plain": [
       "        PROF       GR       DLL       LLS       FR         DT    NPHI    RHOB  \\\n",
       "0  3895.4964  13.4288  296.4435  152.3448  73.8266  59.873933  0.0606  2.5407   \n",
       "1  3895.6488  13.5247  306.2799  155.8916  68.3078  59.970648  0.0633  2.5486   \n",
       "2  3895.8012  13.4533  305.2768  154.7796  68.0374  59.687022  0.0645  2.5578   \n",
       "3  3895.9536  12.8354  297.0194  150.2632  71.7124  59.626260  0.0652  2.5606   \n",
       "4  3896.1060  11.6641  283.1093  142.4204  77.3886  60.243988  0.0683  2.5554   \n",
       "\n",
       "        M         N  \n",
       "0  0.8381  0.609723  \n",
       "1  0.8332  0.604869  \n",
       "2  0.8301  0.600526  \n",
       "3  0.8290  0.599000  \n",
       "4  0.8278  0.599010  "
      ]
     },
     "execution_count": 153,
     "metadata": {},
     "output_type": "execute_result"
    }
   ],
   "source": [
    "datos.head()"
   ]
  },
  {
   "cell_type": "code",
   "execution_count": 154,
   "metadata": {},
   "outputs": [],
   "source": [
    "datos['L'] = (189 - datos['DT'])/(1-datos['NPHI'])"
   ]
  },
  {
   "cell_type": "code",
   "execution_count": 155,
   "metadata": {},
   "outputs": [],
   "source": [
    "#datos['L']"
   ]
  },
  {
   "cell_type": "code",
   "execution_count": 156,
   "metadata": {},
   "outputs": [
    {
     "data": {
      "image/png": "[encoded data removed]",
      "text/plain": [
       "<Figure size 432x288 with 1 Axes>"
      ]
     },
     "metadata": {
      "needs_background": "light"
     },
     "output_type": "display_data"
    }
   ],
   "source": [
    "P_inicial=[0.5051,0.5241,0.5848,0.6273,0.6273,0.5051]\n",
    "P_final  =[0.702,0.7781,0.8269,0.8091,0.8091,0.702]\n",
    "P_M1=[0.5241,0.6273]\n",
    "P_M2=[0.7781,0.8091]\n",
    "v_x1=[0.5241,0.5241]\n",
    "v_y1=[0.7781,1.2]\n",
    "v_x2=[0.5848,0.5848]\n",
    "v_y2=[0.8269,1.2]\n",
    "v_x3=[0.6273,0.6273]\n",
    "v_y3=[0.8091,1.2]\n",
    "plt.plot(P_inicial,P_final,P_M1,P_M2,v_x1,v_y1,v_x2,v_y2,v_x3,v_y3)\n",
    "plt.plot(datos['N'],datos['M'],marker='.', linestyle='', color='b', label = \"M vs N\")\n",
    "#plt.scatter(datos['N'],datos['M'])\n",
    "\n",
    "#plt.xlim([0.5,0.65])\n",
    "#plt.ylim([0.7,0.95])\n",
    "plt.xlim([0.3,1])\n",
    "plt.ylim([0.4,1.2])\n",
    "plt.grid()\n",
    "plt.xlabel('N')\n",
    "plt.ylabel('M')\n",
    "plt.title('Gráfica de M vs N')\n",
    "plt.show()"
   ]
  },
  {
   "cell_type": "code",
   "execution_count": 157,
   "metadata": {},
   "outputs": [
    {
     "data": {
      "image/png": "[encoded data removed]",
      "text/plain": [
       "<Figure size 432x288 with 1 Axes>"
      ]
     },
     "metadata": {
      "needs_background": "light"
     },
     "output_type": "display_data"
    }
   ],
   "source": [
    "import matplotlib.pyplot as plt\n",
    "from mpl_toolkits.mplot3d import Axes3D\n",
    "\n",
    "fig = plt.figure()\n",
    "ax = fig.add_subplot(111, projection='3d')\n",
    "X = datos['N']\n",
    "Y = datos['M']\n",
    "Z = datos['L']\n",
    "\n",
    "ax.scatter(X,Y,Z, c='r',marker = 'o')\n",
    "#Axes3D.plot(xs = datos['N'], ys = datos['M'], zs = datos['L'] , zdir = 'z')\n",
    "ax.set_xlabel('eje x')\n",
    "ax.set_ylabel('eje y')\n",
    "ax.set_zlabel('eje z')\n",
    "plt.show()"
   ]
  },
  {
   "cell_type": "code",
   "execution_count": 158,
   "metadata": {},
   "outputs": [
    {
     "data": {
      "text/plain": [
       "[<matplotlib.lines.Line2D at 0x7fed519a2940>,\n",
       " <matplotlib.lines.Line2D at 0x7fed519a2e80>,\n",
       " <matplotlib.lines.Line2D at 0x7fed519ac2b0>]"
      ]
     },
     "execution_count": 158,
     "metadata": {},
     "output_type": "execute_result"
    },
    {
     "data": {
      "image/png": "[encoded data removed]",
      "text/plain": [
       "<Figure size 432x288 with 1 Axes>"
      ]
     },
     "metadata": {
      "needs_background": "light"
     },
     "output_type": "display_data"
    }
   ],
   "source": [
    "plt.plot(P_inicial,P_final)\n",
    "plt.plot(P_M1,P_M2)\n",
    "plt.plot(v_x1,v_y1,v_x2,v_y2,v_x3,v_y3)"
   ]
  },
  {
   "cell_type": "markdown",
   "metadata": {},
   "source": [
    "##### Vamos a ver como podemos graficar con puntos mas precisos"
   ]
  },
  {
   "cell_type": "code",
   "execution_count": 159,
   "metadata": {},
   "outputs": [
    {
     "data": {
      "text/plain": [
       "(0.49629629629629624, 0.5111111111111111)"
      ]
     },
     "execution_count": 159,
     "metadata": {},
     "output_type": "execute_result"
    }
   ],
   "source": [
    "DOLOMIA = np.array([43.5, 2.87, 0.02])\n",
    "CALIZA  = np.array([47.6, 2.71, 0.00])\n",
    "SILICE  = np.array([55.5, 2.65, -0.035])\n",
    "ARCILLA = np.array([120,  2.35, 0.33])\n",
    "\n",
    "def param_lito(mineral):\n",
    "    M = 0.01 * (189-mineral[0])/(mineral[1] - 1)\n",
    "    N = (1 - mineral[2]) / (mineral[1] - 1)\n",
    "    L = 0.01 * (189 - mineral[0])/(1 - mineral[2])\n",
    "    return    np.array([M,N,L])\n",
    "\n",
    "param_lito(DOLOMIA)\n",
    "param_lito(CALIZA)\n",
    "param_lito(SILICE)\n",
    "param_lito(ARCILLA)\n",
    "\n",
    "ax = param_lito(DOLOMIA)[1]\n",
    "ay = param_lito(DOLOMIA)[0]\n",
    "bx = param_lito(CALIZA)[1]\n",
    "by = param_lito(CALIZA)[0]\n",
    "cx = param_lito(SILICE)[1]\n",
    "cy = param_lito(SILICE)[0]\n",
    "dx = param_lito(ARCILLA)[1]\n",
    "dy = param_lito(ARCILLA)[0]\n",
    "ax,ay\n",
    "bx,by\n",
    "cx,cy\n",
    "dx,dy"
   ]
  },
  {
   "cell_type": "code",
   "execution_count": 160,
   "metadata": {},
   "outputs": [],
   "source": [
    "#P_inicial=[0.5051,0.5241,0.5848,0.6273,0.6273,0.5051]\n",
    "P_inicial=[ax,bx,cx,dx,ax]\n",
    "#P_final  =[0.702,0.7781,0.8269,0.8091,0.8091,0.702]\n",
    "P_final  =[ay,by,cy,dy,ay]\n",
    "\n",
    "P_inicial=[ax,bx,cx,dx,ax]\n",
    "P_final  =[ay,by,cy,dy,ay]\n",
    "P_M1=[ax,cx]\n",
    "P_M2=[ay,cy]\n",
    "v_x1=[ax,ax]\n",
    "v_y1=[ay,1.2]\n",
    "v_x2=[bx,bx]\n",
    "v_y2=[by,1.2]\n",
    "v_x3=[cx,cx]\n",
    "v_y3=[cy,1.2]"
   ]
  },
  {
   "cell_type": "code",
   "execution_count": 161,
   "metadata": {},
   "outputs": [
    {
     "data": {
      "image/png": "[encoded data removed]",
      "text/plain": [
       "<Figure size 432x288 with 1 Axes>"
      ]
     },
     "metadata": {
      "needs_background": "light"
     },
     "output_type": "display_data"
    }
   ],
   "source": [
    "plt.plot(P_inicial,P_final,P_M1,P_M2,v_x1,v_y1,v_x2,v_y2,v_x3,v_y3)\n",
    "plt.plot(datos['N'],datos['M'],marker='.', linestyle='', color='b', label = \"M vs N\")\n",
    "#plt.scatter(datos['N'],datos['M'])\n",
    "\n",
    "#plt.xlim([0.5,0.65])\n",
    "#plt.ylim([0.7,0.95])\n",
    "plt.xlim([0.3,1])\n",
    "plt.ylim([0.4,1.2])\n",
    "plt.grid()\n",
    "plt.xlabel('N')\n",
    "plt.ylabel('M')\n",
    "plt.title('Gráfica de M vs N')\n",
    "plt.show()"
   ]
  },
  {
   "cell_type": "code",
   "execution_count": 163,
   "metadata": {},
   "outputs": [],
   "source": [
    "from shapely.geometry import Point\n",
    "from shapely.geometry.polygon import Polygon\n",
    "\n",
    "#vertices del poligono\n",
    "DOL_CAL_SIL_FIP = Polygon([(ax, ay), (bx , by), (cx , cy), (ax, ay)])\n",
    "DOL_SIL_ARC_FIP = Polygon([(ax, ay), (cx , cy), (dx , dy), (ax, ay)])\n",
    "DOL_CAL_FIP_FIS = Polygon([(ax, ay), (bx , by), (bx , 1.2), (ax, 1.2), (ax ,ay)])\n",
    "CAL_SIL_FIP_FIS = Polygon([(bx, by), (cx , cy), (cx , 1.2), (bx ,1.2), (bx, by)])\n",
    "\n",
    "\n",
    "\"\"\"definicion de los datos, conversion de datos de serie a numericos tipo array\"\"\"\n",
    "M = np.array(datos['M'])\n",
    "N = np.array(datos['N'])\n",
    "\n",
    "#algoritmo para decidir si un punto esta dentro del poligono\n",
    "i = 0\n",
    "puntos = []\n",
    "\n",
    "for numero in M:\n",
    "    point = Point(N[i],M[i])\n",
    "    buleano = DOL_CAL_SIL_FIP.contains(point)\n",
    "    \n",
    "    if buleano == True:\n",
    "        puntos.append('DOL_CAL_SIL_FIP')\n",
    "        \n",
    "    else:\n",
    "        buleano = DOL_SIL_ARC_FIP.contains(point)\n",
    "        \n",
    "        if buleano == True:\n",
    "            puntos.append('DOL_SIL_ARC_FIP')\n",
    "    \n",
    "        else:\n",
    "            buleano = DOL_CAL_FIP_FIS.contains(point)\n",
    "    \n",
    "            if buleano == True:\n",
    "                puntos.append('DOL_CAL_FIP_FIS')\n",
    "        \n",
    "            else:\n",
    "                buleano = CAL_SIL_FIP_FIS.contains(point)\n",
    "        \n",
    "                if buleano == True:\n",
    "                    puntos.append('CAL_SIL_FIP_FIS')\n",
    "                else: \n",
    "                    puntos.append('null')\n",
    "    i += 1"
   ]
  },
  {
   "cell_type": "code",
   "execution_count": 164,
   "metadata": {},
   "outputs": [],
   "source": [
    "datos['Porosidad'] = puntos\n",
    "#a = np.array([puntos])"
   ]
  },
  {
   "cell_type": "code",
   "execution_count": 165,
   "metadata": {},
   "outputs": [
    {
     "data": {
      "text/plain": [
       "0      CAL_SIL_FIP_FIS\n",
       "1      CAL_SIL_FIP_FIS\n",
       "2      CAL_SIL_FIP_FIS\n",
       "3      CAL_SIL_FIP_FIS\n",
       "4      CAL_SIL_FIP_FIS\n",
       "5      CAL_SIL_FIP_FIS\n",
       "6      CAL_SIL_FIP_FIS\n",
       "7      DOL_CAL_SIL_FIP\n",
       "8      DOL_CAL_SIL_FIP\n",
       "9      DOL_CAL_SIL_FIP\n",
       "10     DOL_CAL_SIL_FIP\n",
       "11     DOL_CAL_SIL_FIP\n",
       "12     DOL_CAL_SIL_FIP\n",
       "13     DOL_CAL_SIL_FIP\n",
       "14     DOL_CAL_SIL_FIP\n",
       "15     DOL_CAL_SIL_FIP\n",
       "16     DOL_CAL_SIL_FIP\n",
       "17     DOL_CAL_SIL_FIP\n",
       "18     DOL_CAL_SIL_FIP\n",
       "19     DOL_CAL_SIL_FIP\n",
       "20     DOL_CAL_SIL_FIP\n",
       "21     CAL_SIL_FIP_FIS\n",
       "22     CAL_SIL_FIP_FIS\n",
       "23     CAL_SIL_FIP_FIS\n",
       "24     CAL_SIL_FIP_FIS\n",
       "25     DOL_CAL_SIL_FIP\n",
       "26     DOL_CAL_SIL_FIP\n",
       "27     DOL_CAL_SIL_FIP\n",
       "28     DOL_CAL_SIL_FIP\n",
       "29     DOL_CAL_SIL_FIP\n",
       "            ...       \n",
       "370               null\n",
       "371               null\n",
       "372    DOL_CAL_FIP_FIS\n",
       "373               null\n",
       "374               null\n",
       "375               null\n",
       "376    DOL_CAL_FIP_FIS\n",
       "377    DOL_CAL_FIP_FIS\n",
       "378    DOL_CAL_FIP_FIS\n",
       "379    DOL_CAL_FIP_FIS\n",
       "380    DOL_CAL_SIL_FIP\n",
       "381    DOL_SIL_ARC_FIP\n",
       "382    DOL_SIL_ARC_FIP\n",
       "383    DOL_CAL_SIL_FIP\n",
       "384    DOL_CAL_FIP_FIS\n",
       "385    DOL_CAL_FIP_FIS\n",
       "386    DOL_CAL_FIP_FIS\n",
       "387               null\n",
       "388               null\n",
       "389               null\n",
       "390               null\n",
       "391               null\n",
       "392               null\n",
       "393               null\n",
       "394               null\n",
       "395               null\n",
       "396               null\n",
       "397               null\n",
       "398               null\n",
       "399    DOL_CAL_SIL_FIP\n",
       "Name: Porosidad, Length: 400, dtype: object"
      ]
     },
     "execution_count": 165,
     "metadata": {},
     "output_type": "execute_result"
    }
   ],
   "source": [
    "datos['Porosidad']\n",
    "#a.shape"
   ]
  },
  {
   "cell_type": "code",
   "execution_count": 166,
   "metadata": {},
   "outputs": [
    {
     "data": {
      "text/html": [
       "<div>\n",
       "<style scoped>\n",
       "    .dataframe tbody tr th:only-of-type {\n",
       "        vertical-align: middle;\n",
       "    }\n",
       "\n",
       "    .dataframe tbody tr th {\n",
       "        vertical-align: top;\n",
       "    }\n",
       "\n",
       "    .dataframe thead th {\n",
       "        text-align: right;\n",
       "    }\n",
       "</style>\n",
       "<table border=\"1\" class=\"dataframe\">\n",
       "  <thead>\n",
       "    <tr style=\"text-align: right;\">\n",
       "      <th></th>\n",
       "      <th>PROF</th>\n",
       "      <th>GR</th>\n",
       "      <th>DLL</th>\n",
       "      <th>LLS</th>\n",
       "      <th>FR</th>\n",
       "      <th>DT</th>\n",
       "      <th>NPHI</th>\n",
       "      <th>RHOB</th>\n",
       "      <th>M</th>\n",
       "      <th>N</th>\n",
       "      <th>L</th>\n",
       "      <th>Porosidad</th>\n",
       "    </tr>\n",
       "  </thead>\n",
       "  <tbody>\n",
       "    <tr>\n",
       "      <th>0</th>\n",
       "      <td>3895.4964</td>\n",
       "      <td>13.4288</td>\n",
       "      <td>296.4435</td>\n",
       "      <td>152.3448</td>\n",
       "      <td>73.8266</td>\n",
       "      <td>59.873933</td>\n",
       "      <td>0.0606</td>\n",
       "      <td>2.5407</td>\n",
       "      <td>0.8381</td>\n",
       "      <td>0.609723</td>\n",
       "      <td>137.455894</td>\n",
       "      <td>CAL_SIL_FIP_FIS</td>\n",
       "    </tr>\n",
       "    <tr>\n",
       "      <th>1</th>\n",
       "      <td>3895.6488</td>\n",
       "      <td>13.5247</td>\n",
       "      <td>306.2799</td>\n",
       "      <td>155.8916</td>\n",
       "      <td>68.3078</td>\n",
       "      <td>59.970648</td>\n",
       "      <td>0.0633</td>\n",
       "      <td>2.5486</td>\n",
       "      <td>0.8332</td>\n",
       "      <td>0.604869</td>\n",
       "      <td>137.748854</td>\n",
       "      <td>CAL_SIL_FIP_FIS</td>\n",
       "    </tr>\n",
       "    <tr>\n",
       "      <th>2</th>\n",
       "      <td>3895.8012</td>\n",
       "      <td>13.4533</td>\n",
       "      <td>305.2768</td>\n",
       "      <td>154.7796</td>\n",
       "      <td>68.0374</td>\n",
       "      <td>59.687022</td>\n",
       "      <td>0.0645</td>\n",
       "      <td>2.5578</td>\n",
       "      <td>0.8301</td>\n",
       "      <td>0.600526</td>\n",
       "      <td>138.228731</td>\n",
       "      <td>CAL_SIL_FIP_FIS</td>\n",
       "    </tr>\n",
       "    <tr>\n",
       "      <th>3</th>\n",
       "      <td>3895.9536</td>\n",
       "      <td>12.8354</td>\n",
       "      <td>297.0194</td>\n",
       "      <td>150.2632</td>\n",
       "      <td>71.7124</td>\n",
       "      <td>59.626260</td>\n",
       "      <td>0.0652</td>\n",
       "      <td>2.5606</td>\n",
       "      <td>0.8290</td>\n",
       "      <td>0.599000</td>\n",
       "      <td>138.397240</td>\n",
       "      <td>CAL_SIL_FIP_FIS</td>\n",
       "    </tr>\n",
       "    <tr>\n",
       "      <th>4</th>\n",
       "      <td>3896.1060</td>\n",
       "      <td>11.6641</td>\n",
       "      <td>283.1093</td>\n",
       "      <td>142.4204</td>\n",
       "      <td>77.3886</td>\n",
       "      <td>60.243988</td>\n",
       "      <td>0.0683</td>\n",
       "      <td>2.5554</td>\n",
       "      <td>0.8278</td>\n",
       "      <td>0.599010</td>\n",
       "      <td>138.194711</td>\n",
       "      <td>CAL_SIL_FIP_FIS</td>\n",
       "    </tr>\n",
       "  </tbody>\n",
       "</table>\n",
       "</div>"
      ],
      "text/plain": [
       "        PROF       GR       DLL       LLS       FR         DT    NPHI    RHOB  \\\n",
       "0  3895.4964  13.4288  296.4435  152.3448  73.8266  59.873933  0.0606  2.5407   \n",
       "1  3895.6488  13.5247  306.2799  155.8916  68.3078  59.970648  0.0633  2.5486   \n",
       "2  3895.8012  13.4533  305.2768  154.7796  68.0374  59.687022  0.0645  2.5578   \n",
       "3  3895.9536  12.8354  297.0194  150.2632  71.7124  59.626260  0.0652  2.5606   \n",
       "4  3896.1060  11.6641  283.1093  142.4204  77.3886  60.243988  0.0683  2.5554   \n",
       "\n",
       "        M         N           L        Porosidad  \n",
       "0  0.8381  0.609723  137.455894  CAL_SIL_FIP_FIS  \n",
       "1  0.8332  0.604869  137.748854  CAL_SIL_FIP_FIS  \n",
       "2  0.8301  0.600526  138.228731  CAL_SIL_FIP_FIS  \n",
       "3  0.8290  0.599000  138.397240  CAL_SIL_FIP_FIS  \n",
       "4  0.8278  0.599010  138.194711  CAL_SIL_FIP_FIS  "
      ]
     },
     "execution_count": 166,
     "metadata": {},
     "output_type": "execute_result"
    }
   ],
   "source": [
    "#manipulacion de datos como arreglos\n",
    "PROF = np.array(datos['PROF'])\n",
    "GR   = np.array(datos['GR'])\n",
    "LLS  = np.array(datos['LLS'])\n",
    "FR   = np.array(datos['FR'])\n",
    "DT   = np.array(datos['DT'])\n",
    "NPHI = np.array(datos['NPHI'])\n",
    "RHOB = np.array(datos['RHOB'])\n",
    "M    = np.array(datos['M'])\n",
    "N    = np.array(datos['N'])\n",
    "L    = np.array(datos['L'])\n",
    "Porosidad = np.array(datos['Porosidad'])\n",
    "#print(datos)\n",
    "datos.head()"
   ]
  },
  {
   "cell_type": "code",
   "execution_count": 208,
   "metadata": {},
   "outputs": [
    {
     "data": {
      "text/plain": [
       "matrix([[59.873933],\n",
       "        [ 0.0606  ],\n",
       "        [ 2.5407  ],\n",
       "        [ 1.      ]])"
      ]
     },
     "execution_count": 208,
     "metadata": {},
     "output_type": "execute_result"
    }
   ],
   "source": [
    "b = np.matrix([ DT[0],\n",
    "                NPHI[0],\n",
    "                RHOB[0],\n",
    "                [1] ])\n",
    "b"
   ]
  },
  {
   "cell_type": "code",
   "execution_count": 211,
   "metadata": {},
   "outputs": [],
   "source": [
    "A = np.matrix([ [189, 43.5, 55.5,   120],\n",
    "                [1.0, 0.02, -0.035, 0.33],\n",
    "                [1.0, 2.87, 2.65,   2.35],\n",
    "                [1.0, 1.0,  1.0,    1.0]    ])\n",
    "A.shape\n",
    "A_inverse = np.linalg.inv(A)\n",
    "X = A_inverse * b\n",
    "FIP  =  X[0]\n",
    "VDOL =  X[1]\n",
    "VSIL =  X[2]\n",
    "VARC =  X[3]"
   ]
  },
  {
   "cell_type": "code",
   "execution_count": 168,
   "metadata": {},
   "outputs": [],
   "source": [
    "# define matrix A using Numpy arrays\n",
    "A = np.matrix([ [189, 43.5, 55.5,   120],\n",
    "                [1.0, 0.02, -0.035, 0.33],\n",
    "                [1.0, 2.87, 2.65,   2.35],\n",
    "                [1.0, 1.0,  1.0,    1.0]    ])\n",
    "A.shape\n",
    "#define matrix B\n",
    "b = np.matrix([ [DT],\n",
    "                [NPHI],\n",
    "                [RHOB],\n",
    "                [1] ])\n",
    "A_inverse = np.linalg.inv(A)\n",
    "X = A_inverse * b\n",
    "FIP  =  X[0]\n",
    "VDOL =  X[1]\n",
    "VSIL =  X[2]\n",
    "VARC =  X[3]\n",
    "\n",
    "\n",
    "#La idea de poner 2 shape es para que el arreglo quede de tamaño (400,1)\n",
    "#hasta el momento no he encontrado como optimizar este detalle\n",
    "FIP = np.array(FIP.T)[0]\n",
    "FIP.shape\n",
    "FIP = np.array(FIP.T)[0]\n",
    "FIP.shape\n",
    "\n",
    "VDOL = np.array(VDOL.T)[0]\n",
    "VDOL.shape\n",
    "VDOL = np.array(VDOL.T)[0]\n",
    "VDOL.shape\n",
    "\n",
    "VSIL = np.array(VSIL.T)[0]\n",
    "VSIL.shape\n",
    "VSIL = np.array(VSIL.T)[0]\n",
    "VSIL.shape\n",
    "\n",
    "VARC = np.array(VARC.T)[0]\n",
    "VARC.shape\n",
    "VARC = np.array(VARC.T)[0]\n",
    "VARC.shape\n",
    "\n",
    "VCAL = np.array(VARC*0.0000)\n"
   ]
  },
  {
   "cell_type": "code",
   "execution_count": 196,
   "metadata": {},
   "outputs": [
    {
     "ename": "AxisError",
     "evalue": "axis 2 is out of bounds for array of dimension 1",
     "output_type": "error",
     "traceback": [
      "\u001b[0;31m---------------------------------------------------------------------------\u001b[0m",
      "\u001b[0;31mAxisError\u001b[0m                                 Traceback (most recent call last)",
      "\u001b[0;32m<ipython-input-196-ce83beeeb6ce>\u001b[0m in \u001b[0;36m<module>\u001b[0;34m\u001b[0m\n\u001b[1;32m     35\u001b[0m                                     \u001b[0;34m[\u001b[0m\u001b[0;36m1.0\u001b[0m\u001b[0;34m,\u001b[0m \u001b[0;36m1.0\u001b[0m\u001b[0;34m,\u001b[0m \u001b[0;36m2.71\u001b[0m\u001b[0;34m,\u001b[0m   \u001b[0;36m2.65\u001b[0m\u001b[0;34m]\u001b[0m\u001b[0;34m,\u001b[0m\u001b[0;34m\u001b[0m\u001b[0;34m\u001b[0m\u001b[0m\n\u001b[1;32m     36\u001b[0m                                     [1.0, 1.0,  1.0,    1.0]    ])\n\u001b[0;32m---> 37\u001b[0;31m                     \u001b[0mmatrizA\u001b[0m \u001b[0;34m=\u001b[0m \u001b[0mnp\u001b[0m\u001b[0;34m.\u001b[0m\u001b[0mappend\u001b[0m\u001b[0;34m(\u001b[0m\u001b[0mmatrizA\u001b[0m\u001b[0;34m,\u001b[0m \u001b[0mA\u001b[0m\u001b[0;34m,\u001b[0m \u001b[0maxis\u001b[0m \u001b[0;34m=\u001b[0m \u001b[0;36m2\u001b[0m\u001b[0;34m)\u001b[0m\u001b[0;34m\u001b[0m\u001b[0;34m\u001b[0m\u001b[0m\n\u001b[0m\u001b[1;32m     38\u001b[0m \u001b[0;34m\u001b[0m\u001b[0m\n\u001b[1;32m     39\u001b[0m                 \u001b[0;32melse\u001b[0m\u001b[0;34m:\u001b[0m\u001b[0;34m\u001b[0m\u001b[0;34m\u001b[0m\u001b[0m\n",
      "\u001b[0;32m~/anaconda3/lib/python3.7/site-packages/numpy/lib/function_base.py\u001b[0m in \u001b[0;36mappend\u001b[0;34m(arr, values, axis)\u001b[0m\n\u001b[1;32m   4692\u001b[0m         \u001b[0mvalues\u001b[0m \u001b[0;34m=\u001b[0m \u001b[0mravel\u001b[0m\u001b[0;34m(\u001b[0m\u001b[0mvalues\u001b[0m\u001b[0;34m)\u001b[0m\u001b[0;34m\u001b[0m\u001b[0;34m\u001b[0m\u001b[0m\n\u001b[1;32m   4693\u001b[0m         \u001b[0maxis\u001b[0m \u001b[0;34m=\u001b[0m \u001b[0marr\u001b[0m\u001b[0;34m.\u001b[0m\u001b[0mndim\u001b[0m\u001b[0;34m-\u001b[0m\u001b[0;36m1\u001b[0m\u001b[0;34m\u001b[0m\u001b[0;34m\u001b[0m\u001b[0m\n\u001b[0;32m-> 4694\u001b[0;31m     \u001b[0;32mreturn\u001b[0m \u001b[0mconcatenate\u001b[0m\u001b[0;34m(\u001b[0m\u001b[0;34m(\u001b[0m\u001b[0marr\u001b[0m\u001b[0;34m,\u001b[0m \u001b[0mvalues\u001b[0m\u001b[0;34m)\u001b[0m\u001b[0;34m,\u001b[0m \u001b[0maxis\u001b[0m\u001b[0;34m=\u001b[0m\u001b[0maxis\u001b[0m\u001b[0;34m)\u001b[0m\u001b[0;34m\u001b[0m\u001b[0;34m\u001b[0m\u001b[0m\n\u001b[0m\u001b[1;32m   4695\u001b[0m \u001b[0;34m\u001b[0m\u001b[0m\n\u001b[1;32m   4696\u001b[0m \u001b[0;34m\u001b[0m\u001b[0m\n",
      "\u001b[0;31mAxisError\u001b[0m: axis 2 is out of bounds for array of dimension 1"
     ]
    }
   ],
   "source": [
    "r1 = str(\"DOL_CAL_SIL_FIP\")\n",
    "r2 = str(\"DOL_SIL_ARC_FIP\")\n",
    "r3 = str(\"DOL_CAL_FIP_FIS\")\n",
    "r4 = str(\"CAL_SIL_FIP_FIS\")\n",
    "\n",
    "matrizA = np.array([])\n",
    "for area in Porosidad:\n",
    "    if area == r1:\n",
    "        A = np.array([ [189, 43.5, 47.6,   55.5],\n",
    "                        [1.0, 0.02, 0.00, -0.035],\n",
    "                        [1.0, 2.87, 2.71,   2.65],\n",
    "                        [1.0, 1.0,  1.0,    1.0 ]])        \n",
    "        matrizA = np.append(matrizA, A, axis = 2)\n",
    "        \n",
    "    else:\n",
    "        if area == r2:\n",
    "            A = np.array([ [189, 43.5, 55.5,   120],\n",
    "                            [1.0, 0.02, -0.035, 0.33],\n",
    "                            [1.0, 2.87, 2.65,   2.35],\n",
    "                            [1.0, 1.0,  1.0,    1.0]    ])\n",
    "            matrizA = np.append(matrizA, A, axis = 2)\n",
    "            \n",
    "        else:\n",
    "            if area == r3:\n",
    "                A = np.array([ [189, 45.55, 43.5,  47.6],\n",
    "                                [1.0, 1.0,   0.02,   0.0],\n",
    "                                [1.0, 1.0,   2.87,   2.71],\n",
    "                                [1.0, 1.0,    1.0,   1.0]    ])\n",
    "                matrizA = np.append(matrizA, A, axis = 2)\n",
    "                \n",
    "            else:\n",
    "                if area == r4:\n",
    "                    A = np.array([ [189, 51.55, 47.6,   55.5],\n",
    "                                    [1.0, 1.0, 0.0, -0.035],\n",
    "                                    [1.0, 1.0, 2.71,   2.65],\n",
    "                                    [1.0, 1.0,  1.0,    1.0]    ])\n",
    "                    matrizA = np.append(matrizA, A, axis = 2)\n",
    "                        \n",
    "                else:\n",
    "                    matrzA =np.append(matrizA, 0)\n",
    "matrizA\n"
   ]
  },
  {
   "cell_type": "code",
   "execution_count": 192,
   "metadata": {},
   "outputs": [
    {
     "data": {
      "text/plain": [
       "4928"
      ]
     },
     "execution_count": 192,
     "metadata": {},
     "output_type": "execute_result"
    }
   ],
   "source": [
    "len(matrizA)"
   ]
  },
  {
   "cell_type": "code",
   "execution_count": null,
   "metadata": {},
   "outputs": [],
   "source": [
    "#datos.to_csv('eval_petro_output.csv') #exportando al archivo csv\n",
    "r1 = str(\"DOL_CAL_SIL_FIP\")\n",
    "r2 = str(\"DOL_SIL_ARC_FIP\")\n",
    "r3 = str(\"DOL_CAL_FIP_FIS\")\n",
    "r4 = str(\"CAL_SIL_FIP_FIS\")\n",
    "\n",
    "matrizA = np.array([])\n",
    "for area in Porosidad:\n",
    "    if area == r1:\n",
    "        calculo_r1\n",
    "        \n",
    "    else:\n",
    "        if area == r2:\n",
    "            calculo_r2\n",
    "            \n",
    "        else:\n",
    "            if area == r3:\n",
    "                calculo_r3\n",
    "                \n",
    "            else:\n",
    "                if area == r4:\n",
    "                    calculo_r4\n",
    "                        \n",
    "                else:\n",
    "                    matrzA =np.append(matrizA, 0)\n",
    "matrizA\n"
   ]
  },
  {
   "cell_type": "code",
   "execution_count": 214,
   "metadata": {
    "scrolled": true
   },
   "outputs": [
    {
     "ename": "TypeError",
     "evalue": "No loop matching the specified signature and casting\nwas found for ufunc solve1",
     "output_type": "error",
     "traceback": [
      "\u001b[0;31m---------------------------------------------------------------------------\u001b[0m",
      "\u001b[0;31mTypeError\u001b[0m                                 Traceback (most recent call last)",
      "\u001b[0;32m<ipython-input-214-e182682788d2>\u001b[0m in \u001b[0;36m<module>\u001b[0;34m\u001b[0m\n\u001b[1;32m    107\u001b[0m                     \u001b[0;31m# b = np.array([73.9477, 0.1275, 2.6503, 1])\u001b[0m\u001b[0;34m\u001b[0m\u001b[0;34m\u001b[0m\u001b[0;34m\u001b[0m\u001b[0m\n\u001b[1;32m    108\u001b[0m                     \u001b[0mB\u001b[0m \u001b[0;34m=\u001b[0m \u001b[0mnp\u001b[0m\u001b[0;34m.\u001b[0m\u001b[0marray\u001b[0m\u001b[0;34m(\u001b[0m\u001b[0;34m[\u001b[0m\u001b[0;36m59.8739\u001b[0m\u001b[0;34m,\u001b[0m \u001b[0;36m0.0606\u001b[0m\u001b[0;34m,\u001b[0m \u001b[0;36m2.5407\u001b[0m\u001b[0;34m,\u001b[0m \u001b[0;36m1\u001b[0m\u001b[0;34m]\u001b[0m\u001b[0;34m)\u001b[0m\u001b[0;34m\u001b[0m\u001b[0;34m\u001b[0m\u001b[0m\n\u001b[0;32m--> 109\u001b[0;31m                     \u001b[0mX\u001b[0m \u001b[0;34m=\u001b[0m \u001b[0mnp\u001b[0m\u001b[0;34m.\u001b[0m\u001b[0maround\u001b[0m\u001b[0;34m(\u001b[0m\u001b[0mnp\u001b[0m\u001b[0;34m.\u001b[0m\u001b[0mlinalg\u001b[0m\u001b[0;34m.\u001b[0m\u001b[0msolve\u001b[0m\u001b[0;34m(\u001b[0m\u001b[0mA\u001b[0m\u001b[0;34m,\u001b[0m \u001b[0mb\u001b[0m\u001b[0;34m)\u001b[0m\u001b[0;34m,\u001b[0m \u001b[0mdecimals\u001b[0m \u001b[0;34m=\u001b[0m \u001b[0;36m4\u001b[0m\u001b[0;34m)\u001b[0m\u001b[0;34m\u001b[0m\u001b[0;34m\u001b[0m\u001b[0m\n\u001b[0m\u001b[1;32m    110\u001b[0m                     \u001b[0;31m#datos.head()\u001b[0m\u001b[0;34m\u001b[0m\u001b[0;34m\u001b[0m\u001b[0;34m\u001b[0m\u001b[0m\n\u001b[1;32m    111\u001b[0m                     \u001b[0mA_inverse\u001b[0m \u001b[0;34m=\u001b[0m \u001b[0mnp\u001b[0m\u001b[0;34m.\u001b[0m\u001b[0mlinalg\u001b[0m\u001b[0;34m.\u001b[0m\u001b[0minv\u001b[0m\u001b[0;34m(\u001b[0m\u001b[0mA\u001b[0m\u001b[0;34m)\u001b[0m\u001b[0;34m\u001b[0m\u001b[0;34m\u001b[0m\u001b[0m\n",
      "\u001b[0;32m~/anaconda3/lib/python3.7/site-packages/numpy/linalg/linalg.py\u001b[0m in \u001b[0;36msolve\u001b[0;34m(a, b)\u001b[0m\n\u001b[1;32m    401\u001b[0m     \u001b[0msignature\u001b[0m \u001b[0;34m=\u001b[0m \u001b[0;34m'DD->D'\u001b[0m \u001b[0;32mif\u001b[0m \u001b[0misComplexType\u001b[0m\u001b[0;34m(\u001b[0m\u001b[0mt\u001b[0m\u001b[0;34m)\u001b[0m \u001b[0;32melse\u001b[0m \u001b[0;34m'dd->d'\u001b[0m\u001b[0;34m\u001b[0m\u001b[0;34m\u001b[0m\u001b[0m\n\u001b[1;32m    402\u001b[0m     \u001b[0mextobj\u001b[0m \u001b[0;34m=\u001b[0m \u001b[0mget_linalg_error_extobj\u001b[0m\u001b[0;34m(\u001b[0m\u001b[0m_raise_linalgerror_singular\u001b[0m\u001b[0;34m)\u001b[0m\u001b[0;34m\u001b[0m\u001b[0;34m\u001b[0m\u001b[0m\n\u001b[0;32m--> 403\u001b[0;31m     \u001b[0mr\u001b[0m \u001b[0;34m=\u001b[0m \u001b[0mgufunc\u001b[0m\u001b[0;34m(\u001b[0m\u001b[0ma\u001b[0m\u001b[0;34m,\u001b[0m \u001b[0mb\u001b[0m\u001b[0;34m,\u001b[0m \u001b[0msignature\u001b[0m\u001b[0;34m=\u001b[0m\u001b[0msignature\u001b[0m\u001b[0;34m,\u001b[0m \u001b[0mextobj\u001b[0m\u001b[0;34m=\u001b[0m\u001b[0mextobj\u001b[0m\u001b[0;34m)\u001b[0m\u001b[0;34m\u001b[0m\u001b[0;34m\u001b[0m\u001b[0m\n\u001b[0m\u001b[1;32m    404\u001b[0m \u001b[0;34m\u001b[0m\u001b[0m\n\u001b[1;32m    405\u001b[0m     \u001b[0;32mreturn\u001b[0m \u001b[0mwrap\u001b[0m\u001b[0;34m(\u001b[0m\u001b[0mr\u001b[0m\u001b[0;34m.\u001b[0m\u001b[0mastype\u001b[0m\u001b[0;34m(\u001b[0m\u001b[0mresult_t\u001b[0m\u001b[0;34m,\u001b[0m \u001b[0mcopy\u001b[0m\u001b[0;34m=\u001b[0m\u001b[0;32mFalse\u001b[0m\u001b[0;34m)\u001b[0m\u001b[0;34m)\u001b[0m\u001b[0;34m\u001b[0m\u001b[0;34m\u001b[0m\u001b[0m\n",
      "\u001b[0;31mTypeError\u001b[0m: No loop matching the specified signature and casting\nwas found for ufunc solve1"
     ]
    }
   ],
   "source": [
    "FIP = np.array([])\n",
    "VDOL = np.array([])\n",
    "VCAL = np.array([])\n",
    "VSIL = np.array([])\n",
    "VARC = np.array([])\n",
    "FIS = np.array([])\n",
    "\n",
    "matrizA = np.array([])\n",
    "for area in Porosidad:\n",
    "\n",
    "    i = 0\n",
    "    if area == r1:\n",
    "        A = np.array([ [189, 43.5, 47.5,   55.5],\n",
    "                        [1.0, 0.02, 0.0, -0.035],\n",
    "                        [1.0, 2.87, 2.71,   2.65],\n",
    "                        [1.0, 1.0,  1.0,    1.0]    ])\n",
    "        A.shape\n",
    "\n",
    "        #define matrix B\n",
    "        b = np.array([ DT[i],\n",
    "                        NPHI[i],\n",
    "                        RHOB[i],\n",
    "                        1 ])\n",
    "        # b = np.array([73.9477, 0.1275, 2.6503, 1])\n",
    "        B = np.array([59.8739, 0.0606, 2.5407, 1])\n",
    "        X = np.around(np.linalg.solve(A, b), decimals = 4)\n",
    "        #datos.head()\n",
    "        A_inverse = np.linalg.inv(A)\n",
    "        # X = A_inverse * b\n",
    "        FIP  = np.append(FIP, [X[0]], axis=0)\n",
    "        VDOL = np.append(VDOL,[X[1]], axis=0)\n",
    "        VSIL = np.append(VSIL,[X[3]], axis=0)\n",
    "        VARC = np.append(VARC,[0], axis=0)\n",
    "        VCAL = np.append(VCAL,[X[2]], axis=0)\n",
    "        FIS  = np.append(FIS, [0], axis=0)\n",
    "\n",
    "\n",
    "    else:\n",
    "        if area == r2:\n",
    "            A = np.array([ [189, 43.5, 55.5,   120],\n",
    "                            [1.0, 0.02, -0.035, 0.33],\n",
    "                            [1.0, 2.87, 2.65,   2.35],\n",
    "                            [1.0, 1.0,  1.0,    1.0]    ])\n",
    "            A.shape\n",
    "\n",
    "            #define matrix B\n",
    "            b = np.array([ DT[i],\n",
    "                            NPHI[i],\n",
    "                            RHOB[i],\n",
    "                            1 ])\n",
    "            # b = np.array([73.9477, 0.1275, 2.6503, 1])\n",
    "            B = np.array([59.8739, 0.0606, 2.5407, 1])\n",
    "            X = np.around(np.linalg.solve(A, b), decimals = 4)\n",
    "            #datos.head()\n",
    "            A_inverse = np.linalg.inv(A)\n",
    "            # X = A_inverse * b\n",
    "            FIP = np.append(FIP,[X[0]], axis=0)\n",
    "            VDOL = np.append(VDOL,[X[1]], axis=0)\n",
    "            VSIL = np.append(VSIL,[X[2]], axis=0)\n",
    "            VARC = np.append(VARC,[X[3]], axis=0)\n",
    "            VCAL = np.append(VCAL,[0], axis=0)\n",
    "            FIS = np.append(FIS,[0], axis=0)\n",
    "\n",
    "\n",
    "\n",
    "        else:\n",
    "            if area == r3:\n",
    "                A = np.matrix([ [189, 45.55, 43.5, 47.6],\n",
    "                                [1.0, 1.0, 0.02,    0.0],\n",
    "                                [1.0, 1.0, 2.87,   2.71],\n",
    "                                [1.0, 1.0,  1.0,    1.0]    ])\n",
    "                A.shape\n",
    "\n",
    "                #define matrix B\n",
    "                b = np.array([ DT[i],\n",
    "                                NPHI[i],\n",
    "                                RHOB[i],\n",
    "                                1 ])\n",
    "                # b = np.array([73.9477, 0.1275, 2.6503, 1])\n",
    "                B = np.array([59.8739, 0.0606, 2.5407, 1])\n",
    "                X = np.around(np.linalg.solve(A, b), decimals = 4)\n",
    "                #datos.head()\n",
    "                A_inverse = np.linalg.inv(A)\n",
    "                # X = A_inverse * b\n",
    "                FIP = np.append(FIP,[X[0]], axis=0)\n",
    "                VDOL = np.append(VDOL,[X[2]], axis=0)\n",
    "                VSIL = np.append(VSIL,[0], axis=0)\n",
    "                VARC = np.append(VARC,[0], axis=0)\n",
    "                VCAL = np.append(VCAL,[X[3]], axis=0)\n",
    "                FIS = np.append(FIS,[X[1]], axis=0)\n",
    "\n",
    "\n",
    "\n",
    "            else:\n",
    "                if area == r4:\n",
    "                    A = np.array([  [189, 51.55, 47.6, 55.5],\n",
    "                                    [1.0, 1.0,  0.0, -0.035],\n",
    "                                    [1.0, 1.0, 2.71,   2.65],\n",
    "                                    [1.0, 1.0,  1.0,    1.0]    ])\n",
    "                    A.shape\n",
    "\n",
    "                    #define matrix B\n",
    "                    b = np.array([ DT[i],\n",
    "                                    NPHI[i],\n",
    "                                    RHOB[i],\n",
    "                                    1 ])\n",
    "                    # b = np.array([73.9477, 0.1275, 2.6503, 1])\n",
    "                    B = np.array([59.8739, 0.0606, 2.5407, 1])\n",
    "                    X = np.around(np.linalg.solve(A, b), decimals = 4)\n",
    "                    #datos.head()\n",
    "                    A_inverse = np.linalg.inv(A)\n",
    "                    # X = A_inverse * b\n",
    "                    FIP = np.append(FIP,[X[0]], axis=0)\n",
    "                    VDOL = np.append(VDOL,[0], axis=0)\n",
    "                    VSIL = np.append(VSIL,[X[3]], axis=0)\n",
    "                    VARC = np.append(VARC,[0], axis=0)\n",
    "                    VCAL = np.append(VCAL,[X[2]], axis=0)\n",
    "                    FIS = np.append(FIS,[X[1]], axis=0)\n",
    "\n",
    "                else:\n",
    "                    FIP = np.append(FIP,[np.NaN], axis=0)\n",
    "                    VDOL = np.append(VDOL,[np.NaN], axis=0)\n",
    "                    VSIL = np.append(VSIL,[np.NaN], axis=0)\n",
    "                    VARC = np.append(VARC,[np.NaN], axis=0)\n",
    "                    VCAL = np.append(VCAL,[np.NaN], axis=0)\n",
    "                    FIS = np.append(FIS,[np.NaN], axis=0)\n",
    "    i += 1\n",
    "\n",
    "FIS.shape\n",
    "datos['VDOL'] = np.around(VDOL,decimals = 4)\n",
    "datos['VCAL'] = np.around(VCAL,decimals = 4)\n",
    "datos['VSIL'] = np.around(VSIL,decimals = 4)\n",
    "datos['VARC'] = np.around(VARC,decimals = 4)\n",
    "datos['FIS']  = np.around(FIS, decimals = 4)\n",
    "datos['FIP']  = np.around(FIP, decimals = 4)\n",
    "VDOL[67]+ VCAL[67] +VSIL[67]+VARC[67]+FIS[67]+FIP[67]\n",
    "plt.plot(VDOL,-1*PROF)\n",
    "datos\n"
   ]
  },
  {
   "cell_type": "code",
   "execution_count": null,
   "metadata": {},
   "outputs": [],
   "source": []
  },
  {
   "cell_type": "code",
   "execution_count": null,
   "metadata": {},
   "outputs": [],
   "source": []
  }
 ],
 "metadata": {
  "kernelspec": {
   "display_name": "Python 3",
   "language": "python",
   "name": "python3"
  },
  "language_info": {
   "codemirror_mode": {
    "name": "ipython",
    "version": 3
   },
   "file_extension": ".py",
   "mimetype": "text/x-python",
   "name": "python",
   "nbconvert_exporter": "python",
   "pygments_lexer": "ipython3",
   "version": "3.7.3"
  }
 },
 "nbformat": 4,
 "nbformat_minor": 2
}
