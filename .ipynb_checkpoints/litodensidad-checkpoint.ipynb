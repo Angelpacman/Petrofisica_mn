{
 "cells": [
  {
   "cell_type": "code",
   "execution_count": 2,
   "metadata": {},
   "outputs": [],
   "source": [
    "import numpy as np\n",
    "import pandas as pd\n",
    "import matplotlib.pyplot as plt\n",
    "import matplotlib as mat"
   ]
  },
  {
   "cell_type": "code",
   "execution_count": 3,
   "metadata": {},
   "outputs": [],
   "source": [
    "datos = pd.read_csv(\"eval_petro.csv\")"
   ]
  },
  {
   "cell_type": "code",
   "execution_count": 4,
   "metadata": {},
   "outputs": [
    {
     "data": {
      "text/html": [
       "<div>\n",
       "<style scoped>\n",
       "    .dataframe tbody tr th:only-of-type {\n",
       "        vertical-align: middle;\n",
       "    }\n",
       "\n",
       "    .dataframe tbody tr th {\n",
       "        vertical-align: top;\n",
       "    }\n",
       "\n",
       "    .dataframe thead th {\n",
       "        text-align: right;\n",
       "    }\n",
       "</style>\n",
       "<table border=\"1\" class=\"dataframe\">\n",
       "  <thead>\n",
       "    <tr style=\"text-align: right;\">\n",
       "      <th></th>\n",
       "      <th>PROF</th>\n",
       "      <th>GR</th>\n",
       "      <th>DLL</th>\n",
       "      <th>LLS</th>\n",
       "      <th>FR</th>\n",
       "      <th>DT</th>\n",
       "      <th>NPHI</th>\n",
       "      <th>RHOB</th>\n",
       "      <th>M</th>\n",
       "    </tr>\n",
       "  </thead>\n",
       "  <tbody>\n",
       "    <tr>\n",
       "      <th>0</th>\n",
       "      <td>3895.4964</td>\n",
       "      <td>13.4288</td>\n",
       "      <td>296.4435</td>\n",
       "      <td>152.3448</td>\n",
       "      <td>73.8266</td>\n",
       "      <td>NaN</td>\n",
       "      <td>0.0606</td>\n",
       "      <td>2.5407</td>\n",
       "      <td>0.8381</td>\n",
       "    </tr>\n",
       "    <tr>\n",
       "      <th>1</th>\n",
       "      <td>3895.6488</td>\n",
       "      <td>13.5247</td>\n",
       "      <td>306.2799</td>\n",
       "      <td>155.8916</td>\n",
       "      <td>68.3078</td>\n",
       "      <td>NaN</td>\n",
       "      <td>0.0633</td>\n",
       "      <td>2.5486</td>\n",
       "      <td>0.8332</td>\n",
       "    </tr>\n",
       "    <tr>\n",
       "      <th>2</th>\n",
       "      <td>3895.8012</td>\n",
       "      <td>13.4533</td>\n",
       "      <td>305.2768</td>\n",
       "      <td>154.7796</td>\n",
       "      <td>68.0374</td>\n",
       "      <td>NaN</td>\n",
       "      <td>0.0645</td>\n",
       "      <td>2.5578</td>\n",
       "      <td>0.8301</td>\n",
       "    </tr>\n",
       "    <tr>\n",
       "      <th>3</th>\n",
       "      <td>3895.9536</td>\n",
       "      <td>12.8354</td>\n",
       "      <td>297.0194</td>\n",
       "      <td>150.2632</td>\n",
       "      <td>71.7124</td>\n",
       "      <td>NaN</td>\n",
       "      <td>0.0652</td>\n",
       "      <td>2.5606</td>\n",
       "      <td>0.8290</td>\n",
       "    </tr>\n",
       "    <tr>\n",
       "      <th>4</th>\n",
       "      <td>3896.1060</td>\n",
       "      <td>11.6641</td>\n",
       "      <td>283.1093</td>\n",
       "      <td>142.4204</td>\n",
       "      <td>77.3886</td>\n",
       "      <td>NaN</td>\n",
       "      <td>0.0683</td>\n",
       "      <td>2.5554</td>\n",
       "      <td>0.8278</td>\n",
       "    </tr>\n",
       "  </tbody>\n",
       "</table>\n",
       "</div>"
      ],
      "text/plain": [
       "        PROF       GR       DLL       LLS       FR  DT    NPHI    RHOB       M\n",
       "0  3895.4964  13.4288  296.4435  152.3448  73.8266 NaN  0.0606  2.5407  0.8381\n",
       "1  3895.6488  13.5247  306.2799  155.8916  68.3078 NaN  0.0633  2.5486  0.8332\n",
       "2  3895.8012  13.4533  305.2768  154.7796  68.0374 NaN  0.0645  2.5578  0.8301\n",
       "3  3895.9536  12.8354  297.0194  150.2632  71.7124 NaN  0.0652  2.5606  0.8290\n",
       "4  3896.1060  11.6641  283.1093  142.4204  77.3886 NaN  0.0683  2.5554  0.8278"
      ]
     },
     "execution_count": 4,
     "metadata": {},
     "output_type": "execute_result"
    }
   ],
   "source": [
    "datos.head()"
   ]
  },
  {
   "cell_type": "code",
   "execution_count": 5,
   "metadata": {},
   "outputs": [
    {
     "data": {
      "text/plain": [
       "0    3895.4964\n",
       "1    3895.6488\n",
       "2    3895.8012\n",
       "3    3895.9536\n",
       "4    3896.1060\n",
       "Name: PROF, dtype: float64"
      ]
     },
     "execution_count": 5,
     "metadata": {},
     "output_type": "execute_result"
    }
   ],
   "source": [
    "datos['PROF'].head()"
   ]
  },
  {
   "cell_type": "code",
   "execution_count": 6,
   "metadata": {},
   "outputs": [],
   "source": [
    "datos['DT'] = 189 - (datos['RHOB'] -1)*datos['M']/0.01"
   ]
  },
  {
   "cell_type": "code",
   "execution_count": 7,
   "metadata": {},
   "outputs": [],
   "source": [
    "#datos['DT']"
   ]
  },
  {
   "cell_type": "code",
   "execution_count": 8,
   "metadata": {},
   "outputs": [],
   "source": [
    "#datos"
   ]
  },
  {
   "cell_type": "code",
   "execution_count": 9,
   "metadata": {},
   "outputs": [],
   "source": [
    "datos['N'] = (1 - datos['NPHI'])/(datos['RHOB'] - 1)"
   ]
  },
  {
   "cell_type": "code",
   "execution_count": 10,
   "metadata": {},
   "outputs": [
    {
     "data": {
      "text/html": [
       "<div>\n",
       "<style scoped>\n",
       "    .dataframe tbody tr th:only-of-type {\n",
       "        vertical-align: middle;\n",
       "    }\n",
       "\n",
       "    .dataframe tbody tr th {\n",
       "        vertical-align: top;\n",
       "    }\n",
       "\n",
       "    .dataframe thead th {\n",
       "        text-align: right;\n",
       "    }\n",
       "</style>\n",
       "<table border=\"1\" class=\"dataframe\">\n",
       "  <thead>\n",
       "    <tr style=\"text-align: right;\">\n",
       "      <th></th>\n",
       "      <th>PROF</th>\n",
       "      <th>GR</th>\n",
       "      <th>DLL</th>\n",
       "      <th>LLS</th>\n",
       "      <th>FR</th>\n",
       "      <th>DT</th>\n",
       "      <th>NPHI</th>\n",
       "      <th>RHOB</th>\n",
       "      <th>M</th>\n",
       "      <th>N</th>\n",
       "    </tr>\n",
       "  </thead>\n",
       "  <tbody>\n",
       "    <tr>\n",
       "      <th>0</th>\n",
       "      <td>3895.4964</td>\n",
       "      <td>13.4288</td>\n",
       "      <td>296.4435</td>\n",
       "      <td>152.3448</td>\n",
       "      <td>73.8266</td>\n",
       "      <td>59.873933</td>\n",
       "      <td>0.0606</td>\n",
       "      <td>2.5407</td>\n",
       "      <td>0.8381</td>\n",
       "      <td>0.609723</td>\n",
       "    </tr>\n",
       "    <tr>\n",
       "      <th>1</th>\n",
       "      <td>3895.6488</td>\n",
       "      <td>13.5247</td>\n",
       "      <td>306.2799</td>\n",
       "      <td>155.8916</td>\n",
       "      <td>68.3078</td>\n",
       "      <td>59.970648</td>\n",
       "      <td>0.0633</td>\n",
       "      <td>2.5486</td>\n",
       "      <td>0.8332</td>\n",
       "      <td>0.604869</td>\n",
       "    </tr>\n",
       "    <tr>\n",
       "      <th>2</th>\n",
       "      <td>3895.8012</td>\n",
       "      <td>13.4533</td>\n",
       "      <td>305.2768</td>\n",
       "      <td>154.7796</td>\n",
       "      <td>68.0374</td>\n",
       "      <td>59.687022</td>\n",
       "      <td>0.0645</td>\n",
       "      <td>2.5578</td>\n",
       "      <td>0.8301</td>\n",
       "      <td>0.600526</td>\n",
       "    </tr>\n",
       "    <tr>\n",
       "      <th>3</th>\n",
       "      <td>3895.9536</td>\n",
       "      <td>12.8354</td>\n",
       "      <td>297.0194</td>\n",
       "      <td>150.2632</td>\n",
       "      <td>71.7124</td>\n",
       "      <td>59.626260</td>\n",
       "      <td>0.0652</td>\n",
       "      <td>2.5606</td>\n",
       "      <td>0.8290</td>\n",
       "      <td>0.599000</td>\n",
       "    </tr>\n",
       "    <tr>\n",
       "      <th>4</th>\n",
       "      <td>3896.1060</td>\n",
       "      <td>11.6641</td>\n",
       "      <td>283.1093</td>\n",
       "      <td>142.4204</td>\n",
       "      <td>77.3886</td>\n",
       "      <td>60.243988</td>\n",
       "      <td>0.0683</td>\n",
       "      <td>2.5554</td>\n",
       "      <td>0.8278</td>\n",
       "      <td>0.599010</td>\n",
       "    </tr>\n",
       "  </tbody>\n",
       "</table>\n",
       "</div>"
      ],
      "text/plain": [
       "        PROF       GR       DLL       LLS       FR         DT    NPHI    RHOB  \\\n",
       "0  3895.4964  13.4288  296.4435  152.3448  73.8266  59.873933  0.0606  2.5407   \n",
       "1  3895.6488  13.5247  306.2799  155.8916  68.3078  59.970648  0.0633  2.5486   \n",
       "2  3895.8012  13.4533  305.2768  154.7796  68.0374  59.687022  0.0645  2.5578   \n",
       "3  3895.9536  12.8354  297.0194  150.2632  71.7124  59.626260  0.0652  2.5606   \n",
       "4  3896.1060  11.6641  283.1093  142.4204  77.3886  60.243988  0.0683  2.5554   \n",
       "\n",
       "        M         N  \n",
       "0  0.8381  0.609723  \n",
       "1  0.8332  0.604869  \n",
       "2  0.8301  0.600526  \n",
       "3  0.8290  0.599000  \n",
       "4  0.8278  0.599010  "
      ]
     },
     "execution_count": 10,
     "metadata": {},
     "output_type": "execute_result"
    }
   ],
   "source": [
    "datos.head()"
   ]
  },
  {
   "cell_type": "code",
   "execution_count": 11,
   "metadata": {},
   "outputs": [],
   "source": [
    "datos['L'] = (189 - datos['DT'])/(1-datos['NPHI'])"
   ]
  },
  {
   "cell_type": "code",
   "execution_count": 12,
   "metadata": {},
   "outputs": [],
   "source": [
    "#datos['L']"
   ]
  },
  {
   "cell_type": "code",
   "execution_count": 13,
   "metadata": {},
   "outputs": [
    {
     "data": {
      "image/png": "[encoded data removed]",
      "text/plain": [
       "<Figure size 432x288 with 1 Axes>"
      ]
     },
     "metadata": {
      "needs_background": "light"
     },
     "output_type": "display_data"
    }
   ],
   "source": [
    "P_inicial=[0.5051,0.5241,0.5848,0.6273,0.6273,0.5051]\n",
    "P_final  =[0.702,0.7781,0.8269,0.8091,0.8091,0.702]\n",
    "P_M1=[0.5241,0.6273]\n",
    "P_M2=[0.7781,0.8091]\n",
    "v_x1=[0.5241,0.5241]\n",
    "v_y1=[0.7781,1.2]\n",
    "v_x2=[0.5848,0.5848]\n",
    "v_y2=[0.8269,1.2]\n",
    "v_x3=[0.6273,0.6273]\n",
    "v_y3=[0.8091,1.2]\n",
    "plt.plot(P_inicial,P_final,P_M1,P_M2,v_x1,v_y1,v_x2,v_y2,v_x3,v_y3)\n",
    "plt.plot(datos['N'],datos['M'],marker='.', linestyle='', color='b', label = \"M vs N\")\n",
    "#plt.scatter(datos['N'],datos['M'])\n",
    "\n",
    "#plt.xlim([0.5,0.65])\n",
    "#plt.ylim([0.7,0.95])\n",
    "plt.xlim([0.3,1])\n",
    "plt.ylim([0.4,1.2])\n",
    "plt.grid()\n",
    "plt.xlabel('N')\n",
    "plt.ylabel('M')\n",
    "plt.title('Gráfica de M vs N')\n",
    "plt.show()"
   ]
  },
  {
   "cell_type": "code",
   "execution_count": 14,
   "metadata": {},
   "outputs": [
    {
     "data": {
      "image/png": "[encoded data removed]",
      "text/plain": [
       "<Figure size 432x288 with 1 Axes>"
      ]
     },
     "metadata": {
      "needs_background": "light"
     },
     "output_type": "display_data"
    }
   ],
   "source": [
    "import matplotlib.pyplot as plt\n",
    "from mpl_toolkits.mplot3d import Axes3D\n",
    "\n",
    "fig = plt.figure()\n",
    "ax = fig.add_subplot(111, projection='3d')\n",
    "X = datos['N']\n",
    "Y = datos['M']\n",
    "Z = datos['L']\n",
    "\n",
    "ax.scatter(X,Y,Z, c='g',marker = 'o')\n",
    "#Axes3D.plot(xs = datos['N'], ys = datos['M'], zs = datos['L'] , zdir = 'z')\n",
    "ax.set_xlabel('eje x')\n",
    "ax.set_ylabel('eje y')\n",
    "ax.set_zlabel('eje z')\n",
    "plt.show()"
   ]
  },
  {
   "cell_type": "code",
   "execution_count": 15,
   "metadata": {},
   "outputs": [
    {
     "data": {
      "text/plain": [
       "[<matplotlib.lines.Line2D at 0x7f0d37a026a0>,\n",
       " <matplotlib.lines.Line2D at 0x7f0d37a02ba8>,\n",
       " <matplotlib.lines.Line2D at 0x7f0d37a02f98>]"
      ]
     },
     "execution_count": 15,
     "metadata": {},
     "output_type": "execute_result"
    },
    {
     "data": {
      "image/png": "[encoded data removed]",
      "text/plain": [
       "<Figure size 432x288 with 1 Axes>"
      ]
     },
     "metadata": {
      "needs_background": "light"
     },
     "output_type": "display_data"
    }
   ],
   "source": [
    "plt.plot(P_inicial,P_final)\n",
    "plt.plot(P_M1,P_M2)\n",
    "plt.plot(v_x1,v_y1,v_x2,v_y2,v_x3,v_y3)"
   ]
  },
  {
   "cell_type": "markdown",
   "metadata": {},
   "source": [
    "##### Vamos a ver como podemos graficar con puntos mas precisos"
   ]
  },
  {
   "cell_type": "code",
   "execution_count": 16,
   "metadata": {},
   "outputs": [
    {
     "data": {
      "text/plain": [
       "(0.49629629629629624, 0.5111111111111111)"
      ]
     },
     "execution_count": 16,
     "metadata": {},
     "output_type": "execute_result"
    }
   ],
   "source": [
    "DOLOMIA = np.array([43.5, 2.87, 0.02])\n",
    "CALIZA  = np.array([47.6, 2.71, 0.00])\n",
    "SILICE  = np.array([55.5, 2.65, -0.035])\n",
    "ARCILLA = np.array([120,  2.35, 0.33])\n",
    "\n",
    "def param_lito(mineral):\n",
    "    M = 0.01 * (189-mineral[0])/(mineral[1] - 1)\n",
    "    N = (1 - mineral[2]) / (mineral[1] - 1)\n",
    "    L = 0.01 * (189 - mineral[0])/(1 - mineral[2])\n",
    "    return    np.array([M,N,L])\n",
    "\n",
    "param_lito(DOLOMIA)\n",
    "param_lito(CALIZA)\n",
    "param_lito(SILICE)\n",
    "param_lito(ARCILLA)\n",
    "\n",
    "ax = param_lito(DOLOMIA)[1]\n",
    "ay = param_lito(DOLOMIA)[0]\n",
    "bx = param_lito(CALIZA)[1]\n",
    "by = param_lito(CALIZA)[0]\n",
    "cx = param_lito(SILICE)[1]\n",
    "cy = param_lito(SILICE)[0]\n",
    "dx = param_lito(ARCILLA)[1]\n",
    "dy = param_lito(ARCILLA)[0]\n",
    "ax,ay\n",
    "bx,by\n",
    "cx,cy\n",
    "dx,dy"
   ]
  },
  {
   "cell_type": "code",
   "execution_count": 28,
   "metadata": {},
   "outputs": [],
   "source": [
    "#P_inicial=[0.5051,0.5241,0.5848,0.6273,0.6273,0.5051]\n",
    "P_inicial=[ax,bx,cx,dx,ax]\n",
    "#P_final  =[0.702,0.7781,0.8269,0.8091,0.8091,0.702]\n",
    "P_final  =[ay,by,cy,dy,ay]\n",
    "\n",
    "P_inicial=[ax,bx,cx,dx,ax]\n",
    "P_final  =[ay,by,cy,dy,ay]\n",
    "P_M1=[ax,cx]\n",
    "P_M2=[ay,cy]\n",
    "v_x1=[ax,ax]\n",
    "v_y1=[ay,1.2]\n",
    "v_x2=[bx,bx]\n",
    "v_y2=[by,1.2]\n",
    "v_x3=[cx,cx]\n",
    "v_y3=[cy,1.2]"
   ]
  },
  {
   "cell_type": "code",
   "execution_count": 29,
   "metadata": {},
   "outputs": [
    {
     "data": {
      "image/png": "[encoded data removed]",
      "text/plain": [
       "<Figure size 432x288 with 1 Axes>"
      ]
     },
     "metadata": {
      "needs_background": "light"
     },
     "output_type": "display_data"
    }
   ],
   "source": [
    "plt.plot(P_inicial,P_final,P_M1,P_M2,v_x1,v_y1,v_x2,v_y2,v_x3,v_y3)\n",
    "plt.plot(datos['N'],datos['M'],marker='.', linestyle='', color='b', label = \"M vs N\")\n",
    "#plt.scatter(datos['N'],datos['M'])\n",
    "\n",
    "#plt.xlim([0.5,0.65])\n",
    "#plt.ylim([0.7,0.95])\n",
    "plt.xlim([0.3,1])\n",
    "plt.ylim([0.4,1.2])\n",
    "plt.grid()\n",
    "plt.xlabel('N')\n",
    "plt.ylabel('M')\n",
    "plt.title('Gráfica de M vs N')\n",
    "plt.show()"
   ]
  },
  {
   "cell_type": "code",
   "execution_count": null,
   "metadata": {},
   "outputs": [],
   "source": [
    "\n"
   ]
  },
  {
   "cell_type": "code",
   "execution_count": null,
   "metadata": {},
   "outputs": [],
   "source": []
  }
 ],
 "metadata": {
  "kernelspec": {
   "display_name": "Python 3",
   "language": "python",
   "name": "python3"
  },
  "language_info": {
   "codemirror_mode": {
    "name": "ipython",
    "version": 3
   },
   "file_extension": ".py",
   "mimetype": "text/x-python",
   "name": "python",
   "nbconvert_exporter": "python",
   "pygments_lexer": "ipython3",
   "version": "3.7.3"
  }
 },
 "nbformat": 4,
 "nbformat_minor": 2
}
